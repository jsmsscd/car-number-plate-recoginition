{
  "nbformat": 4,
  "nbformat_minor": 0,
  "metadata": {
    "colab": {
      "name": "Car number plate recoginition models.ipynb",
      "private_outputs": true,
      "provenance": [],
      "collapsed_sections": []
    },
    "kernelspec": {
      "name": "python3",
      "display_name": "Python 3"
    },
    "language_info": {
      "name": "python"
    },
    "accelerator": "GPU"
  },
  "cells": [
    {
      "cell_type": "code",
      "source": [
        "from google.colab import drive\n",
        "drive.mount('/content/drive')"
      ],
      "metadata": {
        "id": "6CxmvYk6UYpL"
      },
      "execution_count": null,
      "outputs": []
    },
    {
      "cell_type": "markdown",
      "source": [
        "Including Dependencies"
      ],
      "metadata": {
        "id": "TW0WJcpWcaYb"
      }
    },
    {
      "cell_type": "code",
      "source": [
        "from matplotlib import pyplot as plt\n",
        "import seaborn as sns\n",
        "import numpy as np\n",
        "import cv2\n",
        "import os\n",
        "import glob\n",
        "import pickle\n",
        "\n",
        "from random import sample, randint\n",
        "\n",
        "from sklearn.model_selection import train_test_split\n",
        "\n",
        "from keras.models import Sequential\n",
        "from keras.layers import Dense, Flatten,Conv2D,MaxPool2D,Dropout\n",
        "from keras.applications.vgg19 import VGG19\n",
        "\n",
        "from lxml import etree"
      ],
      "metadata": {
        "id": "1XM_fTSlas0N"
      },
      "execution_count": null,
      "outputs": []
    },
    {
      "cell_type": "markdown",
      "source": [
        "Reading Data Provided"
      ],
      "metadata": {
        "id": "dZoghHnW22TH"
      }
    },
    {
      "cell_type": "code",
      "source": [
        "for dirName, _, fileNames in os.walk('/content/drive/MyDrive/car plate recoginition/car_cnn'):\n",
        "    for fileName in fileNames:\n",
        "        print(os.path.join(dirName, fileName))"
      ],
      "metadata": {
        "id": "dn6fmFOvbBxT"
      },
      "execution_count": null,
      "outputs": []
    },
    {
      "cell_type": "markdown",
      "source": [
        "Feature Extraction"
      ],
      "metadata": {
        "id": "AKqXm_282chv"
      }
    },
    {
      "cell_type": "code",
      "source": [
        "# x data contains car images\n",
        "# Set Image Size\n",
        "IMAGE_SIZE = 200\n",
        "\n",
        "img_dir = \"/content/drive/MyDrive/car plate recoginition/car_cnn/images\" # Enter Directory of all images \n",
        "data_path = os.path.join(img_dir,'*g')\n",
        "\n",
        "files = glob.glob(data_path)\n",
        "files.sort()\n",
        "\n",
        "X=[]\n",
        "for f1 in files:\n",
        "    img = cv2.imread(f1)\n",
        "    img = cv2.resize(img, (IMAGE_SIZE,IMAGE_SIZE))\n",
        "    X.append(np.array(img))"
      ],
      "metadata": {
        "id": "U2Lw9T0vchd4"
      },
      "execution_count": null,
      "outputs": []
    },
    {
      "cell_type": "code",
      "source": [
        "print(X[0].shape)"
      ],
      "metadata": {
        "id": "eVVin7nFc3AH"
      },
      "execution_count": null,
      "outputs": []
    },
    {
      "cell_type": "code",
      "source": [
        "def resizeannotation(f):\n",
        "    tree = etree.parse(f)\n",
        "    for dim in tree.xpath(\"size\"):\n",
        "        width = int(dim.xpath(\"width\")[0].text)\n",
        "        height = int(dim.xpath(\"height\")[0].text)\n",
        "    for dim in tree.xpath(\"object/bndbox\"):\n",
        "        xmin = int(dim.xpath(\"xmin\")[0].text)/(width/IMAGE_SIZE)\n",
        "        ymin = int(dim.xpath(\"ymin\")[0].text)/(height/IMAGE_SIZE)\n",
        "        xmax = int(dim.xpath(\"xmax\")[0].text)/(width/IMAGE_SIZE)\n",
        "        ymax = int(dim.xpath(\"ymax\")[0].text)/(height/IMAGE_SIZE)\n",
        "    return [int(xmax), int(ymax), int(xmin), int(ymin)]"
      ],
      "metadata": {
        "id": "T8SV4dQBc5GJ"
      },
      "execution_count": null,
      "outputs": []
    },
    {
      "cell_type": "code",
      "source": [
        "#y data contains car annotations\n",
        "path = '/content/drive/MyDrive/car plate recoginition/car_cnn/annotations/'\n",
        "text_files = ['/content/drive/MyDrive/car plate recoginition/car_cnn/annotations/'+f for f in sorted(os.listdir(path))]\n",
        "y=[]\n",
        "for i in text_files:\n",
        "    y.append(resizeannotation(i))"
      ],
      "metadata": {
        "id": "jNDqOl3adl8A"
      },
      "execution_count": null,
      "outputs": []
    },
    {
      "cell_type": "code",
      "source": [
        "print(f\"X Shape : {np.array(X).shape}\")\n",
        "print(f\"y Shape : {np.array(y).shape}\")"
      ],
      "metadata": {
        "id": "utHo1NENfuvS"
      },
      "execution_count": null,
      "outputs": []
    },
    {
      "cell_type": "markdown",
      "source": [
        "Data Sampling"
      ],
      "metadata": {
        "id": "49dDU7-r2UAq"
      }
    },
    {
      "cell_type": "code",
      "source": [
        "sample_index = []\n",
        "\n",
        "for i in range(6):\n",
        "    sample_index.append(randint(0, len(X)))\n",
        "    \n",
        "plt.figure(figsize=(15, 15))\n",
        "for index, i in enumerate(sample_index):\n",
        "    plt.subplot(3, 3, index + 1)\n",
        "    image = cv2.rectangle(cv2.cvtColor(X[i], cv2.COLOR_BGR2RGB),(y[i][0],y[i][1]),(y[i][2],y[i][3]),(0, 0, 255))\n",
        "    plt.imshow(image)\n",
        "    plt.axis(\"off\")\n",
        "\n",
        "plt.show()"
      ],
      "metadata": {
        "id": "s432DqYIf-ux"
      },
      "execution_count": null,
      "outputs": []
    },
    {
      "cell_type": "code",
      "source": [
        "for i in range(6):\n",
        "    print(y[i])\n",
        "    "
      ],
      "metadata": {
        "id": "21DCrqExhlF8"
      },
      "execution_count": null,
      "outputs": []
    },
    {
      "cell_type": "markdown",
      "source": [
        "Data Preprocessing"
      ],
      "metadata": {
        "id": "D_GVH2Fe2B9r"
      }
    },
    {
      "cell_type": "code",
      "source": [
        "X = np.array(X)\n",
        "y = np.array(y)\n",
        "\n",
        "X = X / 255\n",
        "y = y / 255"
      ],
      "metadata": {
        "id": "dX0280A-h-Uw"
      },
      "execution_count": null,
      "outputs": []
    },
    {
      "cell_type": "markdown",
      "source": [
        "Train and Validation split"
      ],
      "metadata": {
        "id": "ktm0T-Bv14j0"
      }
    },
    {
      "cell_type": "code",
      "source": [
        "X_train, X_val, y_train, y_val = train_test_split(X, y, test_size=0.2, random_state=42)"
      ],
      "metadata": {
        "id": "_GSu4Ms9h_UV"
      },
      "execution_count": null,
      "outputs": []
    },
    {
      "cell_type": "code",
      "source": [
        "X_train.shape,X_val.shape"
      ],
      "metadata": {
        "id": "IikYxuZ2ict8"
      },
      "execution_count": null,
      "outputs": []
    },
    {
      "cell_type": "markdown",
      "source": [
        "Model Creation"
      ],
      "metadata": {
        "id": "WImbHfNV1ykH"
      }
    },
    {
      "cell_type": "code",
      "source": [
        "model = Sequential()\n",
        "model.add(VGG19(weights=\"imagenet\", include_top=False, input_shape=(IMAGE_SIZE, IMAGE_SIZE, 3)))\n",
        "model.add(Flatten())\n",
        "model.add(Dense(128, activation=\"relu\"))\n",
        "model.add(Dense(128, activation=\"relu\"))\n",
        "model.add(Dense(64, activation=\"relu\"))\n",
        "model.add(Dense(4, activation=\"sigmoid\"))\n",
        "\n",
        "model.layers[-6].trainable = False\n",
        "\n",
        "model.summary()"
      ],
      "metadata": {
        "id": "mUD_-p6miidn"
      },
      "execution_count": null,
      "outputs": []
    },
    {
      "cell_type": "code",
      "source": [
        "model.compile(loss='mean_squared_error', optimizer='adam', metrics=['accuracy'])\n",
        "\n",
        "history = model.fit(X_train, y_train, validation_data=(X_val, y_val), epochs=7, batch_size=32, verbose=1)"
      ],
      "metadata": {
        "id": "uwiXpBRJjEUg"
      },
      "execution_count": null,
      "outputs": []
    },
    {
      "cell_type": "markdown",
      "source": [
        "Model Evaluation on Metrices"
      ],
      "metadata": {
        "id": "XU3O1H9d05Ah"
      }
    },
    {
      "cell_type": "code",
      "source": [
        "plt.plot(history.history['loss'])\n",
        "plt.plot(history.history['val_loss'])\n",
        "plt.title('Training and validation loss curves')\n",
        "plt.ylabel('loss')\n",
        "plt.xlabel('epoch')\n",
        "plt.legend(['train', 'validation'], loc='upper left')\n",
        "plt.show()"
      ],
      "metadata": {
        "id": "zBXs1KBHUI58"
      },
      "execution_count": null,
      "outputs": []
    },
    {
      "cell_type": "code",
      "source": [
        "plt.plot(history.history['accuracy'])\n",
        "plt.plot(history.history['val_accuracy'])\n",
        "plt.title('Training and validation accuracy curves')\n",
        "plt.ylabel('accuracy')\n",
        "plt.xlabel('epoch')\n",
        "plt.legend(['train', 'validation'], loc='upper left')\n",
        "plt.show()"
      ],
      "metadata": {
        "id": "l5uZS6oBUOby"
      },
      "execution_count": null,
      "outputs": []
    },
    {
      "cell_type": "code",
      "source": [
        "scores = model.evaluate(X_val, y_val, verbose=0)\n",
        "print(f\"Score : {scores[1]* 100}%\")"
      ],
      "metadata": {
        "id": "_pgOFNK-URFZ"
      },
      "execution_count": null,
      "outputs": []
    },
    {
      "cell_type": "markdown",
      "source": [
        "Model Evaluation on Test Image (opencv_car.jpg)"
      ],
      "metadata": {
        "id": "eF_z5Z4dz3bb"
      }
    },
    {
      "cell_type": "code",
      "source": [
        "#Reading and Resizing Image\n",
        "test=cv2.imread(\"/content/drive/MyDrive/car plate recoginition/opencv_car.jpg\")\n",
        "test = cv2.resize(test, (IMAGE_SIZE,IMAGE_SIZE))\n",
        "plt.imshow(test)\n",
        "#x_test="
      ],
      "metadata": {
        "id": "91imjx1DUZj2"
      },
      "execution_count": null,
      "outputs": []
    },
    {
      "cell_type": "code",
      "source": [
        "# Image Preprocessing\n",
        "x_test=np.array(test)\n",
        "x_test=x_test/255\n",
        "print(x_test.shape)\n",
        "\n",
        "xx=x_test\n",
        "xx = np.expand_dims(xx, axis=0)   #adding dimension\n",
        "print(xx.shape)"
      ],
      "metadata": {
        "id": "KIsWuFSyXj-a"
      },
      "execution_count": null,
      "outputs": []
    },
    {
      "cell_type": "code",
      "source": [
        "y_test=model.predict(xx)"
      ],
      "metadata": {
        "id": "MWRoBkQFYfTo"
      },
      "execution_count": null,
      "outputs": []
    },
    {
      "cell_type": "code",
      "source": [
        "y_test\n",
        "ny = y_test * 255\n",
        "ny[0][0]"
      ],
      "metadata": {
        "id": "4P-ijLGawnL1"
      },
      "execution_count": null,
      "outputs": []
    },
    {
      "cell_type": "code",
      "source": [
        "image = cv2.rectangle(x_test,(int(ny[0][0]),int(ny[0][1])),(int(ny[0][2]),int(ny[0][3])),(0, 255, 0))\n",
        "plt.imshow(image)\n",
        "plt.show()"
      ],
      "metadata": {
        "id": "0wqqanlPYigF"
      },
      "execution_count": null,
      "outputs": []
    },
    {
      "cell_type": "code",
      "source": [
        "test_loss, test_accuracy = model.evaluate(xx, y_test,steps=int(100))\n",
        "print(f\"Loss : {test_loss * 100}%\")\n",
        "print(f\"Accuracy : {test_accuracy * 100}%\")"
      ],
      "metadata": {
        "id": "iFBc0cUazKhV"
      },
      "execution_count": null,
      "outputs": []
    },
    {
      "cell_type": "code",
      "source": [
        "filename = 'vgg19.pkl'\n",
        "pickle.dump(model, open(filename, 'wb'))"
      ],
      "metadata": {
        "id": "fah5LYAb2gAD"
      },
      "execution_count": null,
      "outputs": []
    },
    {
      "cell_type": "code",
      "source": [
        "saved_vgg19_model = pickle.load(open(filename, 'rb'))\n",
        "loss,accuracy = saved_vgg19_model.evaluate(xx,y_test)\n",
        "print(f\"Loss of VGG19 is :,{loss*100}%\")\n",
        "print(f\"Accuracy of VGG19 is :,{accuracy*100}%\")"
      ],
      "metadata": {
        "id": "iWG1CEBt3KEt"
      },
      "execution_count": null,
      "outputs": []
    },
    {
      "cell_type": "markdown",
      "source": [
        "# New Section"
      ],
      "metadata": {
        "id": "8rFzZmztXPLF"
      }
    },
    {
      "cell_type": "markdown",
      "source": [
        "-----------------------------------------------------------------------------"
      ],
      "metadata": {
        "id": "IgmQ-q8Dkh5U"
      }
    },
    {
      "cell_type": "markdown",
      "source": [
        "CNN Model"
      ],
      "metadata": {
        "id": "8NpU8kwCkhJ8"
      }
    },
    {
      "cell_type": "code",
      "source": [
        "X_train.shape,X_val.shape"
      ],
      "metadata": {
        "id": "_w8b1iickbC1"
      },
      "execution_count": null,
      "outputs": []
    },
    {
      "cell_type": "code",
      "source": [
        "cnnmodel = Sequential()\n",
        "\n",
        "cnnmodel.add(Conv2D(filters=128,kernel_size=3,activation='relu',input_shape=(IMAGE_SIZE, IMAGE_SIZE, 3)))\n",
        "cnnmodel.add(Conv2D(filters=64,kernel_size=3,activation='relu'))\n",
        "cnnmodel.add(Dropout(0.15))\n",
        "cnnmodel.add(Conv2D(filters=32,kernel_size=3,activation='relu'))\n",
        "cnnmodel.add(Conv2D(filters=16,kernel_size=3,activation='relu'))\n",
        "\n",
        "\n",
        "\n",
        "\n",
        "\n",
        "cnnmodel.add(MaxPool2D(pool_size=(2,2)))\n",
        "\n",
        "cnnmodel.add(Flatten())\n",
        "\n",
        "cnnmodel.add(Dense(128, activation=\"relu\"))\n",
        "cnnmodel.add(Dense(128, activation=\"relu\"))\n",
        "cnnmodel.add(Dense(64, activation=\"relu\"))\n",
        "cnnmodel.add(Dense(4, activation=\"sigmoid\"))\n",
        "\n",
        "\n",
        "\n",
        "cnnmodel.summary()"
      ],
      "metadata": {
        "id": "I-aY6MncknrF"
      },
      "execution_count": null,
      "outputs": []
    },
    {
      "cell_type": "code",
      "source": [
        "cnnmodel.compile(loss='mean_squared_error',optimizer='adam',metrics=['accuracy'])\n",
        "history=cnnmodel.fit(X_train,y_train,validation_data=(X_val,y_val),epochs= 10,batch_size=32,verbose=1)"
      ],
      "metadata": {
        "id": "86UbnnXslt9m"
      },
      "execution_count": null,
      "outputs": []
    },
    {
      "cell_type": "code",
      "source": [
        "scores = cnnmodel.evaluate(X_val, y_val, verbose=0)\n",
        "print(f\"Score : {scores[1]* 100}%\")"
      ],
      "metadata": {
        "id": "IUmxfNidnGaJ"
      },
      "execution_count": null,
      "outputs": []
    },
    {
      "cell_type": "code",
      "source": [
        "#Reading and Resizing Image\n",
        "test=cv2.imread(\"/content/drive/MyDrive/car plate recoginition/opencv_car.jpg\")\n",
        "test = cv2.resize(test, (IMAGE_SIZE,IMAGE_SIZE))\n",
        "plt.imshow(test)"
      ],
      "metadata": {
        "id": "V-VLJiOAnHMn"
      },
      "execution_count": null,
      "outputs": []
    },
    {
      "cell_type": "code",
      "source": [
        "# Image Preprocessing\n",
        "x_test=np.array(test)\n",
        "x_test=x_test/255\n",
        "print(x_test.shape)\n",
        "\n",
        "xx=x_test\n",
        "xx = np.expand_dims(xx, axis=0)   #adding dimension\n",
        "print(xx.shape)"
      ],
      "metadata": {
        "id": "VLUqkYq1rH8t"
      },
      "execution_count": null,
      "outputs": []
    },
    {
      "cell_type": "code",
      "source": [
        "y_test=cnnmodel.predict(xx)"
      ],
      "metadata": {
        "id": "oJKZ_YY0rLcb"
      },
      "execution_count": null,
      "outputs": []
    },
    {
      "cell_type": "code",
      "source": [
        "y_test\n",
        "ny = y_test * 255\n",
        "ny[0][0]"
      ],
      "metadata": {
        "id": "ZGlxd5R2rR6p"
      },
      "execution_count": null,
      "outputs": []
    },
    {
      "cell_type": "code",
      "source": [
        "image = cv2.rectangle(x_test,(int(ny[0][0]),int(ny[0][1])),(int(ny[0][2]),int(ny[0][3])),(0, 255, 0))\n",
        "plt.imshow(image)\n",
        "plt.show()"
      ],
      "metadata": {
        "id": "EGHP4gbSrVTE"
      },
      "execution_count": null,
      "outputs": []
    },
    {
      "cell_type": "code",
      "source": [
        "filename = 'cnn.pkl'\n",
        "pickle.dump(cnnmodel, open(filename, 'wb'))"
      ],
      "metadata": {
        "id": "a3zZcPJ_c-Qm"
      },
      "execution_count": null,
      "outputs": []
    },
    {
      "cell_type": "code",
      "source": [
        "saved_cnn_model = pickle.load(open(filename, 'rb'))\n",
        "loss,accuracy = saved_vgg19_model.evaluate(xx,y_test)\n",
        "print(f\"Loss of CNN is :,{loss*100}%\")\n",
        "print(f\"Accuracy of CNN is :,{accuracy*100}%\")"
      ],
      "metadata": {
        "id": "CvXu0y-0dD_p"
      },
      "execution_count": null,
      "outputs": []
    },
    {
      "cell_type": "markdown",
      "source": [
        "--------------------------------------------------------------------------------------------------------------------------------"
      ],
      "metadata": {
        "id": "vLIBnZiVdhD1"
      }
    },
    {
      "cell_type": "markdown",
      "source": [
        "**Resnet50**"
      ],
      "metadata": {
        "id": "3wMpNie-dl6_"
      }
    },
    {
      "cell_type": "code",
      "source": [
        "from keras.models import Model, load_model\n",
        "from tensorflow.keras.applications.resnet50 import preprocess_input\n",
        "from keras.layers import GlobalAveragePooling2D, Dropout\n",
        "import tensorflow as tf"
      ],
      "metadata": {
        "id": "wOXmTxRmsx_H"
      },
      "execution_count": null,
      "outputs": []
    },
    {
      "cell_type": "code",
      "source": [
        "# RESNET as the base model\n",
        "#resnet_model = Sequential()\n",
        "resnet_model=tf.keras.applications.resnet50.ResNet50(weights= \"imagenet\", include_top=False, input_shape= (IMAGE_SIZE,IMAGE_SIZE,3))\n",
        "for layer in resnet_model.layers:\n",
        "  layer.trainable=False\n",
        "\n",
        "# Take the output output of the base layers\n",
        "base_model_output=resnet_model.output\n",
        "x=Flatten()(base_model_output)\n",
        "#x=GlobalAveragePooling2D()()\n",
        "# FC\n",
        "x=Dense(128,activation='relu')(x)\n",
        "x=Dense(128,activation='relu')(x)\n",
        "x=Dense(64,activation='relu')(x)\n",
        "## Dropout\n",
        "x=Dropout(0.5)(x)\n",
        "## Output layer\n",
        "x=Dense(4,activation='softmax')(x)\n",
        "\n",
        "\n",
        "\n",
        "\n"
      ],
      "metadata": {
        "id": "nvp26I_Us2aX"
      },
      "execution_count": null,
      "outputs": []
    },
    {
      "cell_type": "code",
      "source": [
        "resnet_model=Model(inputs=resnet_model.input,outputs=x)\n",
        "resnet_model.summary()"
      ],
      "metadata": {
        "id": "c6tqN8qVx4fr"
      },
      "execution_count": null,
      "outputs": []
    },
    {
      "cell_type": "code",
      "source": [
        "resnet_model.compile(loss='mean_squared_error',optimizer='adam',metrics=['accuracy'])\n",
        "history=resnet_model.fit(X_train,y_train,validation_data=(X_val,y_val),epochs= 10,batch_size=32,verbose=1)"
      ],
      "metadata": {
        "id": "ZFpPJYg6umo0"
      },
      "execution_count": null,
      "outputs": []
    },
    {
      "cell_type": "code",
      "source": [
        "#Reading and Resizing Image\n",
        "test=cv2.imread(\"/content/drive/MyDrive/car plate recoginition/opencv_car.jpg\")\n",
        "test = cv2.resize(test, (IMAGE_SIZE,IMAGE_SIZE))\n",
        "plt.imshow(test)"
      ],
      "metadata": {
        "id": "YQzUADFGqO-M"
      },
      "execution_count": null,
      "outputs": []
    },
    {
      "cell_type": "code",
      "source": [
        "# Image Preprocessing\n",
        "x_test=np.array(test)\n",
        "x_test=x_test/255\n",
        "print(x_test.shape)\n",
        "\n",
        "xx=x_test\n",
        "xx = np.expand_dims(xx, axis=0)   #adding dimension\n",
        "print(xx.shape)"
      ],
      "metadata": {
        "id": "2eoNYgn7qPrE"
      },
      "execution_count": null,
      "outputs": []
    },
    {
      "cell_type": "code",
      "source": [
        "y_test=resnet_model.predict(xx)"
      ],
      "metadata": {
        "id": "tWc8IRDQqTnq"
      },
      "execution_count": null,
      "outputs": []
    },
    {
      "cell_type": "code",
      "source": [
        "y_test\n",
        "ny = y_test * 255\n",
        "ny[0][0]"
      ],
      "metadata": {
        "id": "ZbELAGUjqeHV"
      },
      "execution_count": null,
      "outputs": []
    },
    {
      "cell_type": "code",
      "source": [
        "image = cv2.rectangle(x_test,(int(ny[0][0]),int(ny[0][1])),(int(ny[0][2]),int(ny[0][3])),(0, 255, 0))\n",
        "plt.imshow(image)\n",
        "plt.show()"
      ],
      "metadata": {
        "id": "khkflbMbqi9-"
      },
      "execution_count": null,
      "outputs": []
    },
    {
      "cell_type": "code",
      "source": [
        "filename = 'resnet50.pkl'\n",
        "pickle.dump(resnet_model, open(filename, 'wb'))"
      ],
      "metadata": {
        "id": "twiu1GE4qu2L"
      },
      "execution_count": null,
      "outputs": []
    },
    {
      "cell_type": "code",
      "source": [
        "saved_resnet50_model = pickle.load(open(filename, 'rb'))\n",
        "loss,accuracy = saved_resnet50_model.evaluate(xx,y_test)\n",
        "print(f\"Loss of CNN is :,{loss*100}%\")\n",
        "print(f\"Accuracy of CNN is :,{accuracy*100}%\")"
      ],
      "metadata": {
        "id": "hcwQnyXWq7ZF"
      },
      "execution_count": null,
      "outputs": []
    }
  ]
}